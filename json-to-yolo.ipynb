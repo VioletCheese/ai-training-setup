{
 "cells": [
  {
   "cell_type": "code",
   "execution_count": null,
   "metadata": {},
   "outputs": [],
   "source": [
    "import json\n",
    "import os\n",
    "\n",
    "WIDTH = 1920\n",
    "HEIGHT = 1080\n",
    "DIR = \"../kayıt/syn_v2/syn_v2_json\"\n",
    "TARGET_DIR = \"syn_v2_txt\"\n",
    "\n",
    "file_list = os.listdir(DIR)\n",
    "if not os.path.isdir(TARGET_DIR):\n",
    "    os.mkdir(TARGET_DIR)\n",
    "\n",
    "for file in file_list:\n",
    "    if not \"capture\" in file:\n",
    "        continue\n",
    "    with open(f\"{DIR}/{file}\", \"r\") as f:\n",
    "        content = json.load(f)\n",
    "\n",
    "    for capture in content[\"captures\"]:\n",
    "        img_name = capture['filename'][capture['filename'].rfind(\"/\")+1 : capture['filename'].rfind(\".\")] \n",
    "        print(img_name)\n",
    "        with open(f\"{TARGET_DIR}/{img_name}.txt\", \"a\") as save:\n",
    "            \n",
    "            for an_val in capture[\"annotations\"][0][\"values\"]:\n",
    "                \n",
    "                values = [an_val[\"label_id\"], an_val[\"x\"], an_val[\"y\"], an_val[\"width\"], an_val[\"height\"]]\n",
    "                line = f\"{(values[0])} {(values[1] + values[3]/2) / WIDTH :.6f} {(values[2] + values[4]/2) / HEIGHT:.6f} {values[3] / WIDTH:.6f} {values[4] / HEIGHT:.6f}\"\n",
    "                #normalized center w h\n",
    "\n",
    "                save.write(line)"
   ]
  }
 ],
 "metadata": {
  "kernelspec": {
   "display_name": "Python 3.8.10 64-bit",
   "language": "python",
   "name": "python3"
  },
  "language_info": {
   "name": "python",
   "version": "3.8.10"
  },
  "orig_nbformat": 4,
  "vscode": {
   "interpreter": {
    "hash": "e7370f93d1d0cde622a1f8e1c04877d8463912d04d973331ad4851f04de6915a"
   }
  }
 },
 "nbformat": 4,
 "nbformat_minor": 2
}
