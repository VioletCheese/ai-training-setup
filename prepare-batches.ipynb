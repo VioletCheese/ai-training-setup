{
 "cells": [
  {
   "cell_type": "code",
   "execution_count": 1,
   "metadata": {},
   "outputs": [],
   "source": [
    "import os\n",
    "import cv2\n",
    "import shutil\n",
    "import re\n"
   ]
  },
  {
   "cell_type": "code",
   "execution_count": 3,
   "metadata": {},
   "outputs": [
    {
     "name": "stdout",
     "output_type": "stream",
     "text": [
      "JPG count: 100\n",
      "JPG count: 200\n",
      "JPG count: 300\n",
      "JPG count: 400\n",
      "JPG count: 500\n",
      "JPG count: 600\n",
      "JPG count: 700\n",
      "JPG count: 800\n",
      "JPG count: 900\n",
      "JPG count: 1000\n",
      "JPG count: 1100\n"
     ]
    }
   ],
   "source": [
    "## GATHER ALL IMAGES WITHOUT CHECKING PROBLEMATICSname_counter = 9000\n",
    "\n",
    "DSTDIR = \"pre-processing-photos\"\n",
    "TARGETDIR = \"contents\"\n",
    "FILETYPE = \"jpg\"\n",
    "\n",
    "if not os.path.isdir(DSTDIR):\n",
    "    os.mkdir(DSTDIR)\n",
    "\n",
    "counter = 1\n",
    "name_counter = 13000\n",
    "\n",
    "for dirpath, dirname, filenames in os.walk(TARGETDIR):\n",
    "    for filename in filenames:\n",
    "        filepath = f\"{dirpath}/{filename}\"\n",
    "        # print(filepath)\n",
    "        \n",
    "        if filepath.endswith(f\".{FILETYPE}\"):\n",
    "            # match = re.search(rf'\\d+\\.{FILETYPE}$', filepath, re.ASCII)\n",
    "            # print(f\"WRITING {filepath} to \\n/{DIRPATH}/photo{counter}.png \")\n",
    "            \n",
    "            # shutil.copy(filepath, f'{DIRPATH}/photo{match.group()}')\n",
    "            shutil.move(filepath, f\"{DSTDIR}/photo{name_counter}.{FILETYPE}\")\n",
    "            if counter % 100 == 0:\n",
    "                print(f\"{FILETYPE.upper()} count: {counter}\")\n",
    "            counter += 1\n",
    "            name_counter += 1\n",
    "        \n",
    "                "
   ]
  },
  {
   "cell_type": "code",
   "execution_count": 4,
   "metadata": {},
   "outputs": [
    {
     "name": "stdout",
     "output_type": "stream",
     "text": [
      "Photo count: 1191\n"
     ]
    }
   ],
   "source": [
    "## FIND PHOTO COUNT\n",
    "TARGETDIR = \"pre-processing-photos\"\n",
    "photo_count = 0\n",
    "# Iterate directory\n",
    "for path in os.listdir(TARGETDIR):\n",
    "    # check if current path is a file\n",
    "    if os.path.isfile(os.path.join(TARGETDIR, path)):\n",
    "        photo_count += 1\n",
    "print('Photo count:', photo_count)\n",
    "batch_count = photo_count // 300 + 1"
   ]
  },
  {
   "cell_type": "code",
   "execution_count": null,
   "metadata": {},
   "outputs": [],
   "source": [
    "## MAKE A JPG COPY OF EVERY PNG FILE\n",
    "PNGDIR = \"../kayıt/syn_v2/pngs\"\n",
    "JPGDIR = \"syn_v2_jpgs\"\n",
    "if not os.path.isdir(JPGDIR):\n",
    "    os.mkdir(JPGDIR)\n",
    "counter = 1\n",
    "name_counter = names in os.walk(PNGDIR):\n",
    "    for filename in filenames:\n",
    "        filepath = f\"{dirpath}/{filename}\"\n",
    "        # print(filepath)\n",
    "        if filepath.endswith(\".png\"):\n",
    "            try:\n",
    "                image = cv2.imread(filepath)\n",
    "                # print(f\"WRITING jpgs/{filename[:-4]}.jpg \")\n",
    "                # input()\n",
    "                cv2.imwrite(f\"{JPGDIR}/{filename[:-4]}.jpg\", image)\n",
    "                if counter%20 ==0:\n",
    "                    print(f\"JPG count: {counter}\")\n",
    "                counter += 1\n",
    "            except Exception as e:\n",
    "                print(e)\n",
    "                problematic_files+=1\n",
    "print(f\"Problematic files count: {problematic_files}\")\n",
    "\n"
   ]
  },
  {
   "cell_type": "code",
   "execution_count": 5,
   "metadata": {},
   "outputs": [
    {
     "data": {
      "text/plain": [
       "4"
      ]
     },
     "execution_count": 5,
     "metadata": {},
     "output_type": "execute_result"
    }
   ],
   "source": [
    "batch_count"
   ]
  },
  {
   "cell_type": "code",
   "execution_count": 6,
   "metadata": {},
   "outputs": [],
   "source": [
    "## SPLIT ALL PHOTOS INTO BATCHES\n",
    "\n",
    "BATCHDIR = \"batches\"\n",
    "TARGETDIR = \"pre-processing-photos\"\n",
    "FILETYPE = \"jpg\"\n",
    "if not os.path.isdir(BATCHDIR):\n",
    "    os.mkdir(BATCHDIR)\n",
    "\n",
    "for i in range(batch_count):\n",
    "    _batch_path = f\"{BATCHDIR}/batch{i+1}\"\n",
    "    if not os.path.isdir(_batch_path):\n",
    "        os.mkdir(_batch_path)\n",
    "\n",
    "\n",
    "batch_number = 1\n",
    "batch_photo_count = 0\n",
    "for dirpath, dirname, filenames in os.walk(TARGETDIR):\n",
    "    for filename in filenames:\n",
    "        filepath = f\"{dirpath}/{filename}\"\n",
    "        # print(filepath)\n",
    "        if filepath.endswith(f\".{FILETYPE}\"):\n",
    "            shutil.move(filepath, f\"{BATCHDIR}/batch{batch_number}\")\n",
    "            batch_photo_count += 1\n",
    "        \n",
    "        if batch_photo_count == 300:\n",
    "            batch_number += 1\n",
    "            batch_photo_count = 0\n",
    "\n",
    "            \n",
    "\n"
   ]
  },
  {
   "cell_type": "code",
   "execution_count": 7,
   "metadata": {},
   "outputs": [],
   "source": [
    "## ZIP ALL BATCH FILES\n",
    "CONTENTPATH=\".\"\n",
    "DSTDIR=\"zips\"\n",
    "if not os.path.isdir(DSTDIR):\n",
    "    os.mkdir(DSTDIR)\n",
    "for i in range(batch_number):\n",
    "    shutil.make_archive(f\"{DSTDIR}/batch{i+1}\", \"zip\", f\"{CONTENTPATH}/batches/batch{i+1}/\")\n",
    "    "
   ]
  },
  {
   "cell_type": "code",
   "execution_count": null,
   "metadata": {},
   "outputs": [],
   "source": []
  }
 ],
 "metadata": {
  "kernelspec": {
   "display_name": "Python 3",
   "language": "python",
   "name": "python3"
  },
  "language_info": {
   "codemirror_mode": {
    "name": "ipython",
    "version": 3
   },
   "file_extension": ".py",
   "mimetype": "text/x-python",
   "name": "python",
   "nbconvert_exporter": "python",
   "pygments_lexer": "ipython3",
   "version": "3.8.10"
  },
  "orig_nbformat": 4,
  "vscode": {
   "interpreter": {
    "hash": "e7370f93d1d0cde622a1f8e1c04877d8463912d04d973331ad4851f04de6915a"
   }
  }
 },
 "nbformat": 4,
 "nbformat_minor": 2
}
